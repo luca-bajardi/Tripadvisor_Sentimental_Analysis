{
 "cells": [
  {
   "cell_type": "markdown",
   "metadata": {
    "toc": true
   },
   "source": [
    "<h1>Table of Contents<span class=\"tocSkip\"></span></h1>\n",
    "<div class=\"toc\"><ul class=\"toc-item\"><li><span><a href=\"#Data-exploration\" data-toc-modified-id=\"Data-exploration-1\"><span class=\"toc-item-num\">1&nbsp;&nbsp;</span>Data exploration</a></span></li><li><span><a href=\"#Preprocessing\" data-toc-modified-id=\"Preprocessing-2\"><span class=\"toc-item-num\">2&nbsp;&nbsp;</span>Preprocessing</a></span></li><li><span><a href=\"#Algorithm-choice\" data-toc-modified-id=\"Algorithm-choice-3\"><span class=\"toc-item-num\">3&nbsp;&nbsp;</span>Algorithm choice</a></span><ul class=\"toc-item\"><li><span><a href=\"#DecisionTreeClassifier\" data-toc-modified-id=\"DecisionTreeClassifier-3.1\"><span class=\"toc-item-num\">3.1&nbsp;&nbsp;</span>DecisionTreeClassifier</a></span></li><li><span><a href=\"#RandomForestClassifier\" data-toc-modified-id=\"RandomForestClassifier-3.2\"><span class=\"toc-item-num\">3.2&nbsp;&nbsp;</span>RandomForestClassifier</a></span></li><li><span><a href=\"#MLPClassifier\" data-toc-modified-id=\"MLPClassifier-3.3\"><span class=\"toc-item-num\">3.3&nbsp;&nbsp;</span>MLPClassifier</a></span></li><li><span><a href=\"#KNeighborsClassifier\" data-toc-modified-id=\"KNeighborsClassifier-3.4\"><span class=\"toc-item-num\">3.4&nbsp;&nbsp;</span>KNeighborsClassifier</a></span></li><li><span><a href=\"#LogisticRegression\" data-toc-modified-id=\"LogisticRegression-3.5\"><span class=\"toc-item-num\">3.5&nbsp;&nbsp;</span>LogisticRegression</a></span></li><li><span><a href=\"#SGDClassifier\" data-toc-modified-id=\"SGDClassifier-3.6\"><span class=\"toc-item-num\">3.6&nbsp;&nbsp;</span>SGDClassifier</a></span></li><li><span><a href=\"#SVC\" data-toc-modified-id=\"SVC-3.7\"><span class=\"toc-item-num\">3.7&nbsp;&nbsp;</span>SVC</a></span></li><li><span><a href=\"#LinearSVC\" data-toc-modified-id=\"LinearSVC-3.8\"><span class=\"toc-item-num\">3.8&nbsp;&nbsp;</span>LinearSVC</a></span></li></ul></li><li><span><a href=\"#Tuning-and-validation\" data-toc-modified-id=\"Tuning-and-validation-4\"><span class=\"toc-item-num\">4&nbsp;&nbsp;</span>Tuning and validation</a></span><ul class=\"toc-item\"><li><span><a href=\"#Tuning-and-validation-of-LinearSVC\" data-toc-modified-id=\"Tuning-and-validation-of-LinearSVC-4.1\"><span class=\"toc-item-num\">4.1&nbsp;&nbsp;</span>Tuning and validation of LinearSVC</a></span></li><li><span><a href=\"#Tuning-and-validation-of-SGDClassifier\" data-toc-modified-id=\"Tuning-and-validation-of-SGDClassifier-4.2\"><span class=\"toc-item-num\">4.2&nbsp;&nbsp;</span>Tuning and validation of SGDClassifier</a></span></li></ul></li><li><span><a href=\"#Output\" data-toc-modified-id=\"Output-5\"><span class=\"toc-item-num\">5&nbsp;&nbsp;</span>Output</a></span></li></ul></div>"
   ]
  },
  {
   "cell_type": "code",
   "execution_count": 1,
   "metadata": {
    "scrolled": true
   },
   "outputs": [
    {
     "name": "stderr",
     "output_type": "stream",
     "text": [
      "[nltk_data] Downloading package wordnet to\n",
      "[nltk_data]     C:\\Users\\lucab\\AppData\\Roaming\\nltk_data...\n",
      "[nltk_data]   Package wordnet is already up-to-date!\n"
     ]
    },
    {
     "data": {
      "text/plain": [
       "True"
      ]
     },
     "execution_count": 1,
     "metadata": {},
     "output_type": "execute_result"
    }
   ],
   "source": [
    "%matplotlib inline\n",
    "import matplotlib.pyplot as plt\n",
    "import numpy as np\n",
    "import pandas as pd\n",
    "import seaborn as sns\n",
    "from collections import Counter\n",
    "import pattern.it\n",
    "from stop_words import get_stop_words\n",
    "\n",
    "import nltk\n",
    "nltk.download('wordnet')"
   ]
  },
  {
   "cell_type": "markdown",
   "metadata": {},
   "source": [
    "# Data exploration"
   ]
  },
  {
   "cell_type": "code",
   "execution_count": 2,
   "metadata": {
    "scrolled": true
   },
   "outputs": [
    {
     "data": {
      "text/html": [
       "<div>\n",
       "<style scoped>\n",
       "    .dataframe tbody tr th:only-of-type {\n",
       "        vertical-align: middle;\n",
       "    }\n",
       "\n",
       "    .dataframe tbody tr th {\n",
       "        vertical-align: top;\n",
       "    }\n",
       "\n",
       "    .dataframe thead th {\n",
       "        text-align: right;\n",
       "    }\n",
       "</style>\n",
       "<table border=\"1\" class=\"dataframe\">\n",
       "  <thead>\n",
       "    <tr style=\"text-align: right;\">\n",
       "      <th></th>\n",
       "      <th>text</th>\n",
       "      <th>class</th>\n",
       "    </tr>\n",
       "  </thead>\n",
       "  <tbody>\n",
       "    <tr>\n",
       "      <th>0</th>\n",
       "      <td>Non è l'hotel più lussuoso in cui abbia mai so...</td>\n",
       "      <td>pos</td>\n",
       "    </tr>\n",
       "    <tr>\n",
       "      <th>1</th>\n",
       "      <td>Siamo stati qui per 1 notte prima della nostra...</td>\n",
       "      <td>pos</td>\n",
       "    </tr>\n",
       "    <tr>\n",
       "      <th>2</th>\n",
       "      <td>Hotel è ben posizionato per visitare Torino. A...</td>\n",
       "      <td>pos</td>\n",
       "    </tr>\n",
       "    <tr>\n",
       "      <th>3</th>\n",
       "      <td>All'arrivo la cordialità e disponibilità dello...</td>\n",
       "      <td>pos</td>\n",
       "    </tr>\n",
       "    <tr>\n",
       "      <th>4</th>\n",
       "      <td>Abbiamo soggiornato per due notti alla fine de...</td>\n",
       "      <td>pos</td>\n",
       "    </tr>\n",
       "    <tr>\n",
       "      <th>5</th>\n",
       "      <td>Ho soggiornato nell'hotel Acca Palace per una ...</td>\n",
       "      <td>pos</td>\n",
       "    </tr>\n",
       "    <tr>\n",
       "      <th>6</th>\n",
       "      <td>Struttura a due passi dalla stazione di mestre...</td>\n",
       "      <td>pos</td>\n",
       "    </tr>\n",
       "    <tr>\n",
       "      <th>7</th>\n",
       "      <td>Ho transitato in questa struttura per qualche ...</td>\n",
       "      <td>pos</td>\n",
       "    </tr>\n",
       "    <tr>\n",
       "      <th>8</th>\n",
       "      <td>un ottimo hotel in zona centrale,molto partico...</td>\n",
       "      <td>pos</td>\n",
       "    </tr>\n",
       "    <tr>\n",
       "      <th>9</th>\n",
       "      <td>Sono stato all hotel la Pergola l, estate scor...</td>\n",
       "      <td>pos</td>\n",
       "    </tr>\n",
       "  </tbody>\n",
       "</table>\n",
       "</div>"
      ],
      "text/plain": [
       "                                                text class\n",
       "0  Non è l'hotel più lussuoso in cui abbia mai so...   pos\n",
       "1  Siamo stati qui per 1 notte prima della nostra...   pos\n",
       "2  Hotel è ben posizionato per visitare Torino. A...   pos\n",
       "3  All'arrivo la cordialità e disponibilità dello...   pos\n",
       "4  Abbiamo soggiornato per due notti alla fine de...   pos\n",
       "5  Ho soggiornato nell'hotel Acca Palace per una ...   pos\n",
       "6  Struttura a due passi dalla stazione di mestre...   pos\n",
       "7  Ho transitato in questa struttura per qualche ...   pos\n",
       "8  un ottimo hotel in zona centrale,molto partico...   pos\n",
       "9  Sono stato all hotel la Pergola l, estate scor...   pos"
      ]
     },
     "execution_count": 2,
     "metadata": {},
     "output_type": "execute_result"
    }
   ],
   "source": [
    "df = pd.read_csv('./development.csv')\n",
    "df.head(10)"
   ]
  },
  {
   "cell_type": "code",
   "execution_count": 3,
   "metadata": {},
   "outputs": [
    {
     "name": "stdout",
     "output_type": "stream",
     "text": [
      "<class 'pandas.core.frame.DataFrame'>\n",
      "RangeIndex: 28754 entries, 0 to 28753\n",
      "Data columns (total 2 columns):\n",
      "text     28754 non-null object\n",
      "class    28754 non-null object\n",
      "dtypes: object(2)\n",
      "memory usage: 449.4+ KB\n"
     ]
    }
   ],
   "source": [
    "df.info()"
   ]
  },
  {
   "cell_type": "code",
   "execution_count": 4,
   "metadata": {},
   "outputs": [
    {
     "data": {
      "text/html": [
       "<div>\n",
       "<style scoped>\n",
       "    .dataframe tbody tr th:only-of-type {\n",
       "        vertical-align: middle;\n",
       "    }\n",
       "\n",
       "    .dataframe tbody tr th {\n",
       "        vertical-align: top;\n",
       "    }\n",
       "\n",
       "    .dataframe thead th {\n",
       "        text-align: right;\n",
       "    }\n",
       "</style>\n",
       "<table border=\"1\" class=\"dataframe\">\n",
       "  <thead>\n",
       "    <tr style=\"text-align: right;\">\n",
       "      <th></th>\n",
       "      <th>text</th>\n",
       "    </tr>\n",
       "  </thead>\n",
       "  <tbody>\n",
       "    <tr>\n",
       "      <th>0</th>\n",
       "      <td>Mi sono fermato una sola notte essendo di pass...</td>\n",
       "    </tr>\n",
       "    <tr>\n",
       "      <th>1</th>\n",
       "      <td>Ho prenotato questo hotel per essere vicino al...</td>\n",
       "    </tr>\n",
       "    <tr>\n",
       "      <th>2</th>\n",
       "      <td>Si tratta di un hotel di lusso costruito nel X...</td>\n",
       "    </tr>\n",
       "    <tr>\n",
       "      <th>3</th>\n",
       "      <td>Arrivo alle 23:30 faccio check in e chiedo la ...</td>\n",
       "    </tr>\n",
       "    <tr>\n",
       "      <th>4</th>\n",
       "      <td>Sono pochi gli Hotel che riescono a coniugare ...</td>\n",
       "    </tr>\n",
       "    <tr>\n",
       "      <th>5</th>\n",
       "      <td>Abbiamo soggiornato per una notte in questo Ho...</td>\n",
       "    </tr>\n",
       "    <tr>\n",
       "      <th>6</th>\n",
       "      <td>Sì, questa è la mia seconda volta, durante un ...</td>\n",
       "    </tr>\n",
       "    <tr>\n",
       "      <th>7</th>\n",
       "      <td>Sono andato a dare una conferenza per 3 giorni...</td>\n",
       "    </tr>\n",
       "    <tr>\n",
       "      <th>8</th>\n",
       "      <td>Sono stato in questa struttura per lavoro, in ...</td>\n",
       "    </tr>\n",
       "    <tr>\n",
       "      <th>9</th>\n",
       "      <td>Recentemente abbiamo visitato Ad place per un ...</td>\n",
       "    </tr>\n",
       "  </tbody>\n",
       "</table>\n",
       "</div>"
      ],
      "text/plain": [
       "                                                text\n",
       "0  Mi sono fermato una sola notte essendo di pass...\n",
       "1  Ho prenotato questo hotel per essere vicino al...\n",
       "2  Si tratta di un hotel di lusso costruito nel X...\n",
       "3  Arrivo alle 23:30 faccio check in e chiedo la ...\n",
       "4  Sono pochi gli Hotel che riescono a coniugare ...\n",
       "5  Abbiamo soggiornato per una notte in questo Ho...\n",
       "6  Sì, questa è la mia seconda volta, durante un ...\n",
       "7  Sono andato a dare una conferenza per 3 giorni...\n",
       "8  Sono stato in questa struttura per lavoro, in ...\n",
       "9  Recentemente abbiamo visitato Ad place per un ..."
      ]
     },
     "execution_count": 4,
     "metadata": {},
     "output_type": "execute_result"
    }
   ],
   "source": [
    "df_eval = pd.read_csv('./evaluation.csv')\n",
    "df_eval.head(10)"
   ]
  },
  {
   "cell_type": "code",
   "execution_count": 5,
   "metadata": {
    "scrolled": true
   },
   "outputs": [
    {
     "name": "stdout",
     "output_type": "stream",
     "text": [
      "<class 'pandas.core.frame.DataFrame'>\n",
      "RangeIndex: 12323 entries, 0 to 12322\n",
      "Data columns (total 1 columns):\n",
      "text    12323 non-null object\n",
      "dtypes: object(1)\n",
      "memory usage: 96.4+ KB\n"
     ]
    }
   ],
   "source": [
    "df_eval.info()"
   ]
  },
  {
   "cell_type": "code",
   "execution_count": 6,
   "metadata": {
    "scrolled": true
   },
   "outputs": [
    {
     "data": {
      "text/plain": [
       "array(['pos', 'neg'], dtype=object)"
      ]
     },
     "execution_count": 6,
     "metadata": {},
     "output_type": "execute_result"
    }
   ],
   "source": [
    "df['class'].unique()"
   ]
  },
  {
   "cell_type": "code",
   "execution_count": 7,
   "metadata": {},
   "outputs": [
    {
     "data": {
      "text/plain": [
       "Counter({'pos': 19532, 'neg': 9222})"
      ]
     },
     "execution_count": 7,
     "metadata": {},
     "output_type": "execute_result"
    }
   ],
   "source": [
    "Counter(df['class'])"
   ]
  },
  {
   "cell_type": "code",
   "execution_count": 8,
   "metadata": {},
   "outputs": [
    {
     "name": "stdout",
     "output_type": "stream",
     "text": [
      "Percentage of positives: 67.93%\n",
      "Percentage of negatives: 32.07%\n"
     ]
    }
   ],
   "source": [
    "num_pos = len(df.loc[df['class']=='pos'])\n",
    "num_neg = len(df.loc[df['class']=='neg'])\n",
    "print(\"Percentage of positives: %2.2f%%\" %(num_pos/(num_pos+num_neg)*100))\n",
    "print(\"Percentage of negatives: %2.2f%%\" %(num_neg/(num_pos+num_neg)*100))"
   ]
  },
  {
   "cell_type": "code",
   "execution_count": 9,
   "metadata": {},
   "outputs": [
    {
     "data": {
      "image/png": "[encoded data removed]",
      "text/plain": [
       "<Figure size 1152x432 with 1 Axes>"
      ]
     },
     "metadata": {
      "needs_background": "light"
     },
     "output_type": "display_data"
    }
   ],
   "source": [
    "plt.figure(figsize=(16, 6))\n",
    "df['class'].value_counts().plot('bar',facecolor='orange',edgecolor='black')\n",
    "plt.title('Frequency for each class label', fontsize=20)\n",
    "plt.xlabel('Class', fontsize=15)\n",
    "plt.ylabel('Frequency', fontsize=15)\n",
    "plt.show()"
   ]
  },
  {
   "cell_type": "code",
   "execution_count": 10,
   "metadata": {},
   "outputs": [
    {
     "data": {
      "text/html": [
       "<div>\n",
       "<style scoped>\n",
       "    .dataframe tbody tr th:only-of-type {\n",
       "        vertical-align: middle;\n",
       "    }\n",
       "\n",
       "    .dataframe tbody tr th {\n",
       "        vertical-align: top;\n",
       "    }\n",
       "\n",
       "    .dataframe thead th {\n",
       "        text-align: right;\n",
       "    }\n",
       "</style>\n",
       "<table border=\"1\" class=\"dataframe\">\n",
       "  <thead>\n",
       "    <tr style=\"text-align: right;\">\n",
       "      <th></th>\n",
       "      <th>text</th>\n",
       "      <th>class</th>\n",
       "      <th>len_text</th>\n",
       "    </tr>\n",
       "  </thead>\n",
       "  <tbody>\n",
       "    <tr>\n",
       "      <th>0</th>\n",
       "      <td>Non è l'hotel più lussuoso in cui abbia mai so...</td>\n",
       "      <td>pos</td>\n",
       "      <td>4284.0</td>\n",
       "    </tr>\n",
       "    <tr>\n",
       "      <th>1</th>\n",
       "      <td>Siamo stati qui per 1 notte prima della nostra...</td>\n",
       "      <td>pos</td>\n",
       "      <td>308.0</td>\n",
       "    </tr>\n",
       "    <tr>\n",
       "      <th>2</th>\n",
       "      <td>Hotel è ben posizionato per visitare Torino. A...</td>\n",
       "      <td>pos</td>\n",
       "      <td>384.0</td>\n",
       "    </tr>\n",
       "    <tr>\n",
       "      <th>3</th>\n",
       "      <td>All'arrivo la cordialità e disponibilità dello...</td>\n",
       "      <td>pos</td>\n",
       "      <td>240.0</td>\n",
       "    </tr>\n",
       "    <tr>\n",
       "      <th>4</th>\n",
       "      <td>Abbiamo soggiornato per due notti alla fine de...</td>\n",
       "      <td>pos</td>\n",
       "      <td>411.0</td>\n",
       "    </tr>\n",
       "    <tr>\n",
       "      <th>5</th>\n",
       "      <td>Ho soggiornato nell'hotel Acca Palace per una ...</td>\n",
       "      <td>pos</td>\n",
       "      <td>545.0</td>\n",
       "    </tr>\n",
       "    <tr>\n",
       "      <th>6</th>\n",
       "      <td>Struttura a due passi dalla stazione di mestre...</td>\n",
       "      <td>pos</td>\n",
       "      <td>233.0</td>\n",
       "    </tr>\n",
       "    <tr>\n",
       "      <th>7</th>\n",
       "      <td>Ho transitato in questa struttura per qualche ...</td>\n",
       "      <td>pos</td>\n",
       "      <td>635.0</td>\n",
       "    </tr>\n",
       "    <tr>\n",
       "      <th>8</th>\n",
       "      <td>un ottimo hotel in zona centrale,molto partico...</td>\n",
       "      <td>pos</td>\n",
       "      <td>306.0</td>\n",
       "    </tr>\n",
       "    <tr>\n",
       "      <th>9</th>\n",
       "      <td>Sono stato all hotel la Pergola l, estate scor...</td>\n",
       "      <td>pos</td>\n",
       "      <td>657.0</td>\n",
       "    </tr>\n",
       "  </tbody>\n",
       "</table>\n",
       "</div>"
      ],
      "text/plain": [
       "                                                text class  len_text\n",
       "0  Non è l'hotel più lussuoso in cui abbia mai so...   pos    4284.0\n",
       "1  Siamo stati qui per 1 notte prima della nostra...   pos     308.0\n",
       "2  Hotel è ben posizionato per visitare Torino. A...   pos     384.0\n",
       "3  All'arrivo la cordialità e disponibilità dello...   pos     240.0\n",
       "4  Abbiamo soggiornato per due notti alla fine de...   pos     411.0\n",
       "5  Ho soggiornato nell'hotel Acca Palace per una ...   pos     545.0\n",
       "6  Struttura a due passi dalla stazione di mestre...   pos     233.0\n",
       "7  Ho transitato in questa struttura per qualche ...   pos     635.0\n",
       "8  un ottimo hotel in zona centrale,molto partico...   pos     306.0\n",
       "9  Sono stato all hotel la Pergola l, estate scor...   pos     657.0"
      ]
     },
     "execution_count": 10,
     "metadata": {},
     "output_type": "execute_result"
    }
   ],
   "source": [
    "for ind in df.index:\n",
    "    df.loc[ind,'len_text'] = len(df.loc[ind,'text'])\n",
    "df.head(10)"
   ]
  },
  {
   "cell_type": "code",
   "execution_count": 11,
   "metadata": {
    "scrolled": true
   },
   "outputs": [
    {
     "data": {
      "text/html": [
       "<div>\n",
       "<style scoped>\n",
       "    .dataframe tbody tr th:only-of-type {\n",
       "        vertical-align: middle;\n",
       "    }\n",
       "\n",
       "    .dataframe tbody tr th {\n",
       "        vertical-align: top;\n",
       "    }\n",
       "\n",
       "    .dataframe thead th {\n",
       "        text-align: right;\n",
       "    }\n",
       "</style>\n",
       "<table border=\"1\" class=\"dataframe\">\n",
       "  <thead>\n",
       "    <tr style=\"text-align: right;\">\n",
       "      <th></th>\n",
       "      <th>len_text</th>\n",
       "    </tr>\n",
       "  </thead>\n",
       "  <tbody>\n",
       "    <tr>\n",
       "      <th>count</th>\n",
       "      <td>28754.000000</td>\n",
       "    </tr>\n",
       "    <tr>\n",
       "      <th>mean</th>\n",
       "      <td>701.431662</td>\n",
       "    </tr>\n",
       "    <tr>\n",
       "      <th>std</th>\n",
       "      <td>606.395492</td>\n",
       "    </tr>\n",
       "    <tr>\n",
       "      <th>min</th>\n",
       "      <td>58.000000</td>\n",
       "    </tr>\n",
       "    <tr>\n",
       "      <th>25%</th>\n",
       "      <td>325.000000</td>\n",
       "    </tr>\n",
       "    <tr>\n",
       "      <th>50%</th>\n",
       "      <td>515.000000</td>\n",
       "    </tr>\n",
       "    <tr>\n",
       "      <th>75%</th>\n",
       "      <td>850.750000</td>\n",
       "    </tr>\n",
       "    <tr>\n",
       "      <th>max</th>\n",
       "      <td>9153.000000</td>\n",
       "    </tr>\n",
       "  </tbody>\n",
       "</table>\n",
       "</div>"
      ],
      "text/plain": [
       "           len_text\n",
       "count  28754.000000\n",
       "mean     701.431662\n",
       "std      606.395492\n",
       "min       58.000000\n",
       "25%      325.000000\n",
       "50%      515.000000\n",
       "75%      850.750000\n",
       "max     9153.000000"
      ]
     },
     "execution_count": 11,
     "metadata": {},
     "output_type": "execute_result"
    }
   ],
   "source": [
    "df.describe()"
   ]
  },
  {
   "cell_type": "code",
   "execution_count": 12,
   "metadata": {},
   "outputs": [
    {
     "data": {
      "text/html": [
       "<div>\n",
       "<style scoped>\n",
       "    .dataframe tbody tr th:only-of-type {\n",
       "        vertical-align: middle;\n",
       "    }\n",
       "\n",
       "    .dataframe tbody tr th {\n",
       "        vertical-align: top;\n",
       "    }\n",
       "\n",
       "    .dataframe thead th {\n",
       "        text-align: right;\n",
       "    }\n",
       "</style>\n",
       "<table border=\"1\" class=\"dataframe\">\n",
       "  <thead>\n",
       "    <tr style=\"text-align: right;\">\n",
       "      <th></th>\n",
       "      <th>text</th>\n",
       "      <th>len_text</th>\n",
       "    </tr>\n",
       "  </thead>\n",
       "  <tbody>\n",
       "    <tr>\n",
       "      <th>0</th>\n",
       "      <td>Mi sono fermato una sola notte essendo di pass...</td>\n",
       "      <td>230.0</td>\n",
       "    </tr>\n",
       "    <tr>\n",
       "      <th>1</th>\n",
       "      <td>Ho prenotato questo hotel per essere vicino al...</td>\n",
       "      <td>1133.0</td>\n",
       "    </tr>\n",
       "    <tr>\n",
       "      <th>2</th>\n",
       "      <td>Si tratta di un hotel di lusso costruito nel X...</td>\n",
       "      <td>482.0</td>\n",
       "    </tr>\n",
       "    <tr>\n",
       "      <th>3</th>\n",
       "      <td>Arrivo alle 23:30 faccio check in e chiedo la ...</td>\n",
       "      <td>760.0</td>\n",
       "    </tr>\n",
       "    <tr>\n",
       "      <th>4</th>\n",
       "      <td>Sono pochi gli Hotel che riescono a coniugare ...</td>\n",
       "      <td>558.0</td>\n",
       "    </tr>\n",
       "    <tr>\n",
       "      <th>5</th>\n",
       "      <td>Abbiamo soggiornato per una notte in questo Ho...</td>\n",
       "      <td>613.0</td>\n",
       "    </tr>\n",
       "    <tr>\n",
       "      <th>6</th>\n",
       "      <td>Sì, questa è la mia seconda volta, durante un ...</td>\n",
       "      <td>492.0</td>\n",
       "    </tr>\n",
       "    <tr>\n",
       "      <th>7</th>\n",
       "      <td>Sono andato a dare una conferenza per 3 giorni...</td>\n",
       "      <td>663.0</td>\n",
       "    </tr>\n",
       "    <tr>\n",
       "      <th>8</th>\n",
       "      <td>Sono stato in questa struttura per lavoro, in ...</td>\n",
       "      <td>385.0</td>\n",
       "    </tr>\n",
       "    <tr>\n",
       "      <th>9</th>\n",
       "      <td>Recentemente abbiamo visitato Ad place per un ...</td>\n",
       "      <td>1459.0</td>\n",
       "    </tr>\n",
       "  </tbody>\n",
       "</table>\n",
       "</div>"
      ],
      "text/plain": [
       "                                                text  len_text\n",
       "0  Mi sono fermato una sola notte essendo di pass...     230.0\n",
       "1  Ho prenotato questo hotel per essere vicino al...    1133.0\n",
       "2  Si tratta di un hotel di lusso costruito nel X...     482.0\n",
       "3  Arrivo alle 23:30 faccio check in e chiedo la ...     760.0\n",
       "4  Sono pochi gli Hotel che riescono a coniugare ...     558.0\n",
       "5  Abbiamo soggiornato per una notte in questo Ho...     613.0\n",
       "6  Sì, questa è la mia seconda volta, durante un ...     492.0\n",
       "7  Sono andato a dare una conferenza per 3 giorni...     663.0\n",
       "8  Sono stato in questa struttura per lavoro, in ...     385.0\n",
       "9  Recentemente abbiamo visitato Ad place per un ...    1459.0"
      ]
     },
     "execution_count": 12,
     "metadata": {},
     "output_type": "execute_result"
    }
   ],
   "source": [
    "for ind in df_eval.index:\n",
    "    df_eval.loc[ind,'len_text'] = len(df_eval.loc[ind,'text'])\n",
    "df_eval.head(10)"
   ]
  },
  {
   "cell_type": "code",
   "execution_count": 13,
   "metadata": {},
   "outputs": [
    {
     "data": {
      "text/html": [
       "<div>\n",
       "<style scoped>\n",
       "    .dataframe tbody tr th:only-of-type {\n",
       "        vertical-align: middle;\n",
       "    }\n",
       "\n",
       "    .dataframe tbody tr th {\n",
       "        vertical-align: top;\n",
       "    }\n",
       "\n",
       "    .dataframe thead th {\n",
       "        text-align: right;\n",
       "    }\n",
       "</style>\n",
       "<table border=\"1\" class=\"dataframe\">\n",
       "  <thead>\n",
       "    <tr style=\"text-align: right;\">\n",
       "      <th></th>\n",
       "      <th>len_text</th>\n",
       "    </tr>\n",
       "  </thead>\n",
       "  <tbody>\n",
       "    <tr>\n",
       "      <th>count</th>\n",
       "      <td>12323.000000</td>\n",
       "    </tr>\n",
       "    <tr>\n",
       "      <th>mean</th>\n",
       "      <td>699.206119</td>\n",
       "    </tr>\n",
       "    <tr>\n",
       "      <th>std</th>\n",
       "      <td>605.312323</td>\n",
       "    </tr>\n",
       "    <tr>\n",
       "      <th>min</th>\n",
       "      <td>65.000000</td>\n",
       "    </tr>\n",
       "    <tr>\n",
       "      <th>25%</th>\n",
       "      <td>323.000000</td>\n",
       "    </tr>\n",
       "    <tr>\n",
       "      <th>50%</th>\n",
       "      <td>515.000000</td>\n",
       "    </tr>\n",
       "    <tr>\n",
       "      <th>75%</th>\n",
       "      <td>854.000000</td>\n",
       "    </tr>\n",
       "    <tr>\n",
       "      <th>max</th>\n",
       "      <td>9221.000000</td>\n",
       "    </tr>\n",
       "  </tbody>\n",
       "</table>\n",
       "</div>"
      ],
      "text/plain": [
       "           len_text\n",
       "count  12323.000000\n",
       "mean     699.206119\n",
       "std      605.312323\n",
       "min       65.000000\n",
       "25%      323.000000\n",
       "50%      515.000000\n",
       "75%      854.000000\n",
       "max     9221.000000"
      ]
     },
     "execution_count": 13,
     "metadata": {},
     "output_type": "execute_result"
    }
   ],
   "source": [
    "df_eval.describe()"
   ]
  },
  {
   "cell_type": "code",
   "execution_count": 14,
   "metadata": {},
   "outputs": [
    {
     "data": {
      "text/plain": [
       "class\n",
       "neg    864.228475\n",
       "pos    624.567428\n",
       "Name: len_text, dtype: float64"
      ]
     },
     "execution_count": 14,
     "metadata": {},
     "output_type": "execute_result"
    }
   ],
   "source": [
    "df.groupby('class')['len_text'].mean()"
   ]
  },
  {
   "cell_type": "code",
   "execution_count": 15,
   "metadata": {},
   "outputs": [
    {
     "data": {
      "text/html": [
       "<div>\n",
       "<style scoped>\n",
       "    .dataframe tbody tr th:only-of-type {\n",
       "        vertical-align: middle;\n",
       "    }\n",
       "\n",
       "    .dataframe tbody tr th {\n",
       "        vertical-align: top;\n",
       "    }\n",
       "\n",
       "    .dataframe thead th {\n",
       "        text-align: right;\n",
       "    }\n",
       "</style>\n",
       "<table border=\"1\" class=\"dataframe\">\n",
       "  <thead>\n",
       "    <tr style=\"text-align: right;\">\n",
       "      <th></th>\n",
       "      <th>class</th>\n",
       "      <th>neg</th>\n",
       "      <th>pos</th>\n",
       "    </tr>\n",
       "  </thead>\n",
       "  <tbody>\n",
       "    <tr>\n",
       "      <th rowspan=\"8\" valign=\"top\">len_text</th>\n",
       "      <th>count</th>\n",
       "      <td>9222.000000</td>\n",
       "      <td>19532.000000</td>\n",
       "    </tr>\n",
       "    <tr>\n",
       "      <th>mean</th>\n",
       "      <td>864.228475</td>\n",
       "      <td>624.567428</td>\n",
       "    </tr>\n",
       "    <tr>\n",
       "      <th>std</th>\n",
       "      <td>740.823934</td>\n",
       "      <td>513.623093</td>\n",
       "    </tr>\n",
       "    <tr>\n",
       "      <th>min</th>\n",
       "      <td>67.000000</td>\n",
       "      <td>58.000000</td>\n",
       "    </tr>\n",
       "    <tr>\n",
       "      <th>25%</th>\n",
       "      <td>393.000000</td>\n",
       "      <td>307.000000</td>\n",
       "    </tr>\n",
       "    <tr>\n",
       "      <th>50%</th>\n",
       "      <td>644.000000</td>\n",
       "      <td>465.000000</td>\n",
       "    </tr>\n",
       "    <tr>\n",
       "      <th>75%</th>\n",
       "      <td>1071.000000</td>\n",
       "      <td>752.000000</td>\n",
       "    </tr>\n",
       "    <tr>\n",
       "      <th>max</th>\n",
       "      <td>9153.000000</td>\n",
       "      <td>7800.000000</td>\n",
       "    </tr>\n",
       "  </tbody>\n",
       "</table>\n",
       "</div>"
      ],
      "text/plain": [
       "class                   neg           pos\n",
       "len_text count  9222.000000  19532.000000\n",
       "         mean    864.228475    624.567428\n",
       "         std     740.823934    513.623093\n",
       "         min      67.000000     58.000000\n",
       "         25%     393.000000    307.000000\n",
       "         50%     644.000000    465.000000\n",
       "         75%    1071.000000    752.000000\n",
       "         max    9153.000000   7800.000000"
      ]
     },
     "execution_count": 15,
     "metadata": {},
     "output_type": "execute_result"
    }
   ],
   "source": [
    "df.groupby('class').describe().transpose()"
   ]
  },
  {
   "cell_type": "code",
   "execution_count": 16,
   "metadata": {
    "scrolled": false
   },
   "outputs": [
    {
     "data": {
      "image/png": "[encoded data removed]",
      "text/plain": [
       "<Figure size 1152x432 with 1 Axes>"
      ]
     },
     "metadata": {
      "needs_background": "light"
     },
     "output_type": "display_data"
    }
   ],
   "source": [
    "plt.figure(figsize=(16, 6))\n",
    "# Density Plot and Histogram of length of each review\n",
    "sns.distplot(df.loc[df['len_text'],'len_text'], kde=True, hist=False,\n",
    "             color = 'darkblue', \n",
    "             hist_kws={'edgecolor':'black'},\n",
    "             kde_kws={'linewidth': 4},\n",
    "             label='Development set')\n",
    "sns.distplot(df_eval.loc[df_eval['len_text'],'len_text'], kde=True, hist=False,\n",
    "             color = 'red', \n",
    "             hist_kws={'edgecolor':'black'},\n",
    "             kde_kws={'linewidth': 4},\n",
    "             label='Evaluation set')\n",
    "# Plot formatting\n",
    "plt.legend(prop={'size': 16})\n",
    "plt.title('Density Plot of length of each review', fontsize=20)\n",
    "plt.xlabel('Length', fontsize=15)\n",
    "plt.ylabel('Density', fontsize=15)\n",
    "plt.show()"
   ]
  },
  {
   "cell_type": "code",
   "execution_count": 17,
   "metadata": {},
   "outputs": [
    {
     "data": {
      "text/plain": [
       "1345.0"
      ]
     },
     "execution_count": 17,
     "metadata": {},
     "output_type": "execute_result"
    }
   ],
   "source": [
    "perc90 = np.percentile(df['len_text'], 90)\n",
    "perc90"
   ]
  },
  {
   "cell_type": "code",
   "execution_count": 18,
   "metadata": {
    "scrolled": false
   },
   "outputs": [
    {
     "data": {
      "image/png": "[encoded data removed]",
      "text/plain": [
       "<Figure size 1152x432 with 1 Axes>"
      ]
     },
     "metadata": {
      "needs_background": "light"
     },
     "output_type": "display_data"
    }
   ],
   "source": [
    "# List of classes to plot\n",
    "classes = ['pos', 'neg']\n",
    "\n",
    "plt.figure(figsize=(16, 6))\n",
    "# Iterate through the classes\n",
    "for id_class in classes:\n",
    "    # Subset to the class\n",
    "    subset = df[df['class'] == id_class]\n",
    "    \n",
    "    # Draw the density plot\n",
    "    sns.distplot(subset.loc[subset['len_text']<perc90,'len_text'], hist = False, kde = True,\n",
    "                 kde_kws = {'shade': True, 'linewidth': 3},\n",
    "                 label = id_class)\n",
    "    \n",
    "# Plot formatting\n",
    "plt.legend(prop={'size': 16}, title = 'Class')\n",
    "plt.title('Density Plot of length of each review divided by class', fontsize=20)\n",
    "plt.xlabel('Length', fontsize=15)\n",
    "plt.ylabel('Density', fontsize=15)\n",
    "plt.show()"
   ]
  },
  {
   "cell_type": "markdown",
   "metadata": {},
   "source": [
    "# Preprocessing"
   ]
  },
  {
   "cell_type": "code",
   "execution_count": 91,
   "metadata": {},
   "outputs": [],
   "source": [
    "X = df['text']\n",
    "X_eval = df_eval['text']"
   ]
  },
  {
   "cell_type": "code",
   "execution_count": 20,
   "metadata": {},
   "outputs": [],
   "source": [
    "def lemmatize_word(input_word):\n",
    "    in_word = input_word\n",
    "    word_it = pattern.it.parse(\n",
    "        in_word, \n",
    "        tokenize=False,  \n",
    "        tag=False,  \n",
    "        chunk=False, \n",
    "        lemmata=True \n",
    "    )\n",
    "    the_lemmatized_word = word_it.split()[0][0][4]\n",
    "    return the_lemmatized_word"
   ]
  },
  {
   "cell_type": "code",
   "execution_count": 21,
   "metadata": {},
   "outputs": [],
   "source": [
    "from sklearn.feature_extraction.text import TfidfVectorizer\n",
    "from nltk.tokenize import word_tokenize\n",
    "from nltk.stem.wordnet import WordNetLemmatizer\n",
    "from nltk.corpus import stopwords as sw\n",
    "from nltk.stem import SnowballStemmer\n",
    "import re\n",
    "import string\n",
    "import emoji\n",
    "from alphabet_detector import AlphabetDetector\n",
    "\n",
    "class LemmaTokenizer(object):\n",
    "    def __init__(self):\n",
    "        self.stemmer = SnowballStemmer(\"italian\")\n",
    "        self.ad = AlphabetDetector()\n",
    "    \n",
    "    def __call__(self, document):\n",
    "        lemmas = []\n",
    "        re_digit = re.compile(\"[0-9:]\") # regular expression to filter digit tokens\n",
    "        \n",
    "        for t in word_tokenize(document):\n",
    "            t = t.strip() # elimination of spaces at the beginning and end\n",
    "            t = t.strip(\".-/_+*':…,°€£|^´`=\\\\~–״\") # elimination of symbols at the beginning and end\n",
    "            \n",
    "            # separation caused by punctuation characters excluding -\n",
    "            t = re.split(\";|\\.|\\:|…|,|\\*|/|_|\\+|\\n|'|°|€|£|\\||\\^|´|`|=|~|״\",t)\n",
    "            \n",
    "            for s in t:\n",
    "                if len(s)>=2:\n",
    "                    # I control words that are not just numbers and letters\n",
    "                    if not s.isalnum():\n",
    "                        s_aux = \"\"\n",
    "                        for c in s: # scan characters in search of emojis, dashes, particular symbols and non-Latin characters\n",
    "                            if c not in emoji.UNICODE_EMOJI and c != '-' and c!='–' and c!='\\\\' \\\n",
    "                            and c!=u\"\\u200b\" and c!=u\"\\ufe0f\" and c!=u\"\\uff0c\" and c!=u\"\\u00d7\"\\\n",
    "                            and c!=u\"\\u2022\" and c!=u\"\\u3002\"and self.ad.is_latin(c):\n",
    "                                s_aux = s_aux + c\n",
    "                        s = s_aux # word without emoji, dashes, special symbols and non-Latin characters\n",
    "\n",
    "                    # words that contain both numbers and letters, then I delete numbers\n",
    "                    if (not (s.isalpha() or s.isdecimal())) and s.isalnum():\n",
    "                        s_alpha = \"\"\n",
    "                        for c in s: # scan characters in search of letters\n",
    "                                if c.isalpha():\n",
    "                                    s_alpha = s_alpha + c\n",
    "                        s = s_alpha # words without numbers\n",
    "\n",
    "                    lemma = lemmatize_word(s)\n",
    "                    lemma = self.stemmer.stem(lemma)\n",
    "\n",
    "                    # remove tokens with only punctuation chars and digits\n",
    "                    if lemma not in string.punctuation and \\\n",
    "                       len(lemma) >= 2 and \\\n",
    "                       len(lemma) < 16 and \\\n",
    "                       not re_digit.match(lemma) and\\\n",
    "                       self.ad.is_latin(lemma):\n",
    "                        lemmas.append(lemma)\n",
    "                \n",
    "        return lemmas"
   ]
  },
  {
   "cell_type": "code",
   "execution_count": 22,
   "metadata": {},
   "outputs": [],
   "source": [
    "import unicodedata\n",
    "\n",
    "def strip_accents(text):\n",
    "    \"\"\"\n",
    "    Strip accents from input String.\n",
    "\n",
    "    :param text: The input string.\n",
    "    :type text: String.\n",
    "\n",
    "    :returns: The processed String.\n",
    "    :rtype: String.\n",
    "    \"\"\"\n",
    "    text = unicodedata.normalize('NFD', text)\n",
    "    text = text.encode('ascii', 'ignore')\n",
    "    text = text.decode(\"utf-8\")\n",
    "    return str(text)"
   ]
  },
  {
   "cell_type": "code",
   "execution_count": 23,
   "metadata": {},
   "outputs": [
    {
     "name": "stdout",
     "output_type": "stream",
     "text": [
      "['stanno', 'tua', 'sarebbe', 'pochi', 'stavamo', 'saremo', 'quanta', 'faresti', 'sull', 'poco', 'farò', 'faccio', 'ad', 'fece', 'vi', 'allo', 'avevi', 'dei', 'tuo', 'nella', 'abbiate', 'gli', 'delle', 'una', 'con', 'altre', 'a', 'fui', 'nostri', 'stando', 'col', 'chi', 'tuoi', 'vostro', 'stavate', 'come', 'tu', 'questi', 'aveste', 'starebbe', 'stiamo', 'avevo', 'stare', 'avesti', 'la', 'stesse', 'feci', 'foste', 'lo', 'avendo', 'i', 'facevano', 'facciamo', 'avrei', 'negl', 'è', 'tue', 'stesso', 'stette', 'vostra', 'degl', 'perché', 'stavo', 'dallo', 'stiate', 'starete', 'fino', 'stessero', 'sei', 'vostre', 'in', 'o', 'vostri', 'di', 'avesse', 'all', 'avrebbero', 'farà', 'fossi', 'fosti', 'fanno', 'mia', 'eravate', 'sue', 'ecco', 'eravamo', 'della', 'nelle', 'aveva', 'stareste', 'uno', 'avuti', 'ci', 'abbiamo', 'essendo', 'avrete', 'avessimo', 'ne', 'anche', 'da', 'staremmo', 'su', 'contro', 'avemmo', 'alle', 'avrò', 'ho', 'le', 'ed', 'faremmo', 'saranno', 'staremo', 'sotto', 'stava', 'sua', 'dalla', 'altro', 'quale', 'dal', 'l', 'quella', 'hai', 'dove', 'però', 'faceva', 'faremo', 'facessimo', 'avremo', 'lui', 'farei', 'mie', 'avuto', 'stesti', 'ti', 'avrà', 'negli', 'nell', 'fareste', 'starà', 'starebbero', 'ebbero', 'siamo', 'ero', 'stiano', 'stavano', 'suoi', 'faccia', 'fosse', 'dagli', 'degli', 'facesse', 'quindi', 'sia', 'al', 'farete', 'nello', 'avevano', 'sugl', 'stavi', 'stai', 'un', 'erano', 'tutto', 'faranno', 'fare', 'dov', 'tutti', 'quelli', 'facciano', 'sarei', 'steste', 'sulle', 'farebbe', 'starò', 'facesti', 'quanto', 'qui', 'abbiano', 'nostra', 'furono', 'li', 'quasi', 'starai', 'sarai', 'stia', 'avete', 'dalle', 'facevamo', 'sono', 'ebbe', 'facessi', 'me', 'facemmo', 'ha', 'sullo', 'mio', 'qua', 'faceste', 'starei', 'se', 'il', 'facciate', 'sarete', 'abbia', 'facevo', 'ai', 'fummo', 'siete', 'dai', 'avresti', 'fai', 'ebbi', 'loro', 'altri', 'dall', 'avevate', 'mi', 'siano', 'facendo', 'saremmo', 'sulla', 'sarà', 'siate', 'stessi', 'avessi', 'queste', 'nei', 'fecero', 'fu', 'quanti', 'sta', 'staresti', 'stessimo', 'nel', 'sarò', 'adesso', 'sareste', 'saresti', 'dentro', 'si', 'fossimo', 'nostro', 'vai', 'alla', 'noi', 'stemmo', 'coi', 'più', 'quante', 'e', 'del', 'stetti', 'eri', 'avevamo', 'dagl', 'sarebbero', 'hanno', 'quello', 'te', 'questo', 'avrai', 'avrebbe', 'dell', 'agl', 'avreste', 'avremmo', 'dello', 'nostre', 'sul', 'ma', 'allora', 'facevi', 'tra', 'avranno', 'ancora', 'per', 'c', 'farebbero', 'giù', 'questa', 'facessero', 'lei', 'sui', 'stettero', 'io', 'staranno', 'facevate', 'quelle', 'avere', 'avute', 'era', 'sopra', 'avessero', 'agli', 'suo', 'farai', 'cui', 'fra', 'sto', 'avuta', 'voi', 'miei', 'che', 'fossero', 'sugli']\n"
     ]
    }
   ],
   "source": [
    "stopwords = list(set(get_stop_words('italian') + nltk.corpus.stopwords.words('italian')))\n",
    "\n",
    "# I get an error if they have already been removed previously\n",
    "try:\n",
    "    stopwords.remove('non')\n",
    "except:\n",
    "    pass\n",
    "try:\n",
    "    stopwords.remove('no')\n",
    "except:\n",
    "    pass\n",
    "try:\n",
    "    stopwords.remove('senza')\n",
    "except:\n",
    "    pass\n",
    "\n",
    "print(stopwords)"
   ]
  },
  {
   "cell_type": "code",
   "execution_count": 28,
   "metadata": {},
   "outputs": [
    {
     "name": "stdout",
     "output_type": "stream",
     "text": [
      "['all', 'farsen', 'nei', 'tua', 'dentr', 'quant', 'mia', 'sia', 'sar', 'al', 'ecco', 'foss', 'sugl', 'avro', 'nel', 'sull', 'un', 'esser', 'com', 'piu', 'uno', 'si', 'ad', 'dov', 'nostr', 'ci', 'vi', 'alla', 'allo', 'noi', 'dei', 'facc', 'coi', 'ne', 'anche', 'da', 'quell', 'tuo', 'perc', 'qui', 'su', 'del', 'altra', 'li', 'fac', 'fec', 'aglo', 'alle', 'dagl', 'una', 'con', 'sti', 'col', 'te', 'poc', 'ebbo', 'chi', 'le', 'ed', 'sopr', 'dell', 'quest', 'agl', 'me', 'lor', 'mio', 'tu', 'qua', 'sul', 'aver', 'ma', 'sua', 'ancor', 'altro', 'la', 'se', 'tra', 'allor', 'per', 'sott', 'dal', 'vostr', 'il', 'fin', 'lo', 'far', 'lei', 'giu', 'sui', 'lui', 'star', 'negl', 'mie', 'quind', 'io', 'avra', 'ti', 'ai', 'contr', 'degl', 'nell', 'vao', 'dai', 'avut', 'qual', 'suo', 'dall', 'mi', 'quas', 'cui', 'fra', 'adess', 'in', 'voi', 'stess', 'che', 'tutt', 'di']\n"
     ]
    }
   ],
   "source": [
    "tokenizer = LemmaTokenizer()\n",
    "stop_words_tok = []\n",
    "for sw in stopwords:\n",
    "    sw_no_acc = strip_accents(sw)\n",
    "    sw_tok = tokenizer(sw_no_acc)\n",
    "    if len(sw_tok)>0:\n",
    "        stop_words_tok.append(sw_tok[0])\n",
    "stop_words_tok = list(set(stop_words_tok))\n",
    "print(stop_words_tok)"
   ]
  },
  {
   "cell_type": "code",
   "execution_count": 74,
   "metadata": {},
   "outputs": [
    {
     "data": {
      "text/plain": [
       "TfidfVectorizer(analyzer='word', binary=False, decode_error='strict',\n",
       "                dtype=<class 'numpy.float64'>, encoding='utf-8',\n",
       "                input='content', lowercase=True, max_df=1.0, max_features=None,\n",
       "                min_df=1, ngram_range=(1, 3), norm='l2', preprocessor=None,\n",
       "                smooth_idf=True,\n",
       "                stop_words=['all', 'farsen', 'nei', 'tua', 'dentr', 'quant',\n",
       "                            'mia', 'sia', 'sar', 'al', 'ecco', 'foss', 'sugl',\n",
       "                            'avro', 'nel', 'sull', 'un', 'esser', 'com', 'piu',\n",
       "                            'uno', 'si', 'ad', 'dov', 'nostr', 'ci', 'vi',\n",
       "                            'alla', 'allo', 'noi', ...],\n",
       "                strip_accents='ascii', sublinear_tf=False,\n",
       "                token_pattern='(?u)\\\\b\\\\w\\\\w+\\\\b',\n",
       "                tokenizer=<__main__.LemmaTokenizer object at 0x000001D03BF73470>,\n",
       "                use_idf=True, vocabulary=None)"
      ]
     },
     "execution_count": 74,
     "metadata": {},
     "output_type": "execute_result"
    }
   ],
   "source": [
    "vectorizer = TfidfVectorizer(input='content', tokenizer=LemmaTokenizer(),\\\n",
    "                             stop_words=stop_words_tok,\\\n",
    "                             strip_accents='ascii', lowercase=True, ngram_range=(1,3))\n",
    "\n",
    "vectorizer.fit(pd.concat((X,X_eval)))"
   ]
  },
  {
   "cell_type": "code",
   "execution_count": 75,
   "metadata": {},
   "outputs": [
    {
     "data": {
      "text/plain": [
       "<28754x2856518 sparse matrix of type '<class 'numpy.float64'>'\n",
       "\twith 4927112 stored elements in Compressed Sparse Row format>"
      ]
     },
     "execution_count": 75,
     "metadata": {},
     "output_type": "execute_result"
    }
   ],
   "source": [
    "X_tfidf = vectorizer.transform(X)\n",
    "X_tfidf"
   ]
  },
  {
   "cell_type": "code",
   "execution_count": 76,
   "metadata": {},
   "outputs": [
    {
     "data": {
      "text/plain": [
       "<12323x2856518 sparse matrix of type '<class 'numpy.float64'>'\n",
       "\twith 2107251 stored elements in Compressed Sparse Row format>"
      ]
     },
     "execution_count": 76,
     "metadata": {},
     "output_type": "execute_result"
    }
   ],
   "source": [
    "X_tfidf_eval = vectorizer.transform(X_eval)\n",
    "X_tfidf_eval"
   ]
  },
  {
   "cell_type": "code",
   "execution_count": 77,
   "metadata": {
    "scrolled": true
   },
   "outputs": [
    {
     "name": "stdout",
     "output_type": "stream",
     "text": [
      "['aa', 'aa frig', 'aa frig camer', 'aa venez', 'aa venez citt', 'aaa', 'aaa prenot', 'aaa prenot hotel', 'aaaaaa', 'aaaaaa normal', 'aaaaaa normal inutil', 'aaaaaaaa', 'aaaaaaaa impossibil', 'aaaaaaaa impossibil ser', 'aabout', 'aabout reception', 'aabout reception dimension', 'aaccoglient', 'aaccoglient non', 'aaccoglient non mil', 'aaccoglit', 'aaccoglit stup', 'aaccoglit stup personal', 'aao', 'aao sacchett', 'aao sacchett lim', 'aapen', 'aapen ago', 'aapen ago mogl', 'aaron', 'aaron aprir', 'aaron aprir circ', 'aaron mentr', 'aaron mentr visit', 'aaron nikol', 'aaron nikol molt', 'aaron non', 'aaron non pot', 'aaron personal', 'aaron personal cordial', 'aaron piuttost', 'aaron piuttost adatt', 'aaron sol', 'aaron sol nott', 'aaron vist', 'aaron vist sol', 'ababst', 'ababst disponibil', 'ababst disponibil part', 'abacus', 'abacus sest', 'abacus sest bell', 'abacus sest cost', 'abadjour', 'abadjour tropp', 'abadjour tropp soffus', 'abajour', 'abajour bagn', 'abajour bagn specc', 'abajour comodin', 'abajour comodin no', 'abajour non', 'abajour non andarsen', 'abajour pessim', 'abajour pessim sconsigl', 'abajour tavolett', 'abajour tavolett comod', 'abajours', 'abajours bagn', 'abajours bagn piccol', 'abajur', 'abajur irraggiung', 'abajur irraggiung bui', 'abar', 'abar possibil', 'abar possibil convert', 'abar pot', 'abar pot apprezz', 'abar trov', 'abar trov ospital', 'abas', 'abas urtar', 'abas urtar amic', 'abasciur', 'abasciur piccolissim', 'abasciur piccolissim finestr', 'abass', 'abass fatt', 'abass fatt giorn', 'abat', 'abat jour', 'abat jour chiav', 'abat jour disponibil', 'abat jour guast', 'abat jour legg', 'abat jour luc', 'abat jour tv', 'abat rumor', 'abat rumor colazion', 'abatantu']\n"
     ]
    }
   ],
   "source": [
    "# print first 100 feature names\n",
    "print(vectorizer.get_feature_names()[:100])"
   ]
  },
  {
   "cell_type": "code",
   "execution_count": 78,
   "metadata": {
    "scrolled": true
   },
   "outputs": [
    {
     "name": "stdout",
     "output_type": "stream",
     "text": [
      "{0: 'neg', 1: 'pos'}\n",
      "0    1\n",
      "1    1\n",
      "2    1\n",
      "3    1\n",
      "4    1\n",
      "5    1\n",
      "6    1\n",
      "7    1\n",
      "8    1\n",
      "9    1\n",
      "dtype: int8\n"
     ]
    }
   ],
   "source": [
    "d = dict(enumerate(df['class'].astype('category').cat.categories))\n",
    "print (d)\n",
    "y = df['class'].astype('category').cat.codes\n",
    "print(y.head(10))"
   ]
  },
  {
   "cell_type": "markdown",
   "metadata": {},
   "source": [
    "# Algorithm choice"
   ]
  },
  {
   "cell_type": "code",
   "execution_count": 41,
   "metadata": {},
   "outputs": [],
   "source": [
    "from sklearn.model_selection import GridSearchCV, train_test_split\n",
    "from sklearn.metrics import f1_score\n",
    "from sklearn.tree import DecisionTreeClassifier\n",
    "from sklearn.ensemble import RandomForestClassifier\n",
    "from sklearn.neural_network import MLPClassifier\n",
    "from sklearn.neighbors import KNeighborsClassifier\n",
    "from sklearn.linear_model import LogisticRegression\n",
    "from sklearn.linear_model import SGDClassifier\n",
    "from sklearn.svm import SVC\n",
    "from sklearn.svm import LinearSVC"
   ]
  },
  {
   "cell_type": "code",
   "execution_count": 42,
   "metadata": {},
   "outputs": [],
   "source": [
    "X_train, X_test, y_train, y_test = train_test_split(X_tfidf, y, stratify=y, shuffle=True)"
   ]
  },
  {
   "cell_type": "code",
   "execution_count": 43,
   "metadata": {
    "scrolled": false
   },
   "outputs": [
    {
     "name": "stdout",
     "output_type": "stream",
     "text": [
      "train\n",
      "neg 0.320704845814978\n",
      "pos 0.6792951541850221\n",
      "test\n",
      "neg 0.3207678397551815\n",
      "pos 0.6792321602448185\n"
     ]
    }
   ],
   "source": [
    "c = Counter(y_train)\n",
    "print(\"train\")\n",
    "for i in [0,1]:\n",
    "    print(d[i], c[i]/len(y_train))\n",
    "c = Counter(y_test)\n",
    "print(\"test\")\n",
    "for i in [0,1]:\n",
    "    print(d[i], c[i]/len(y_test))"
   ]
  },
  {
   "cell_type": "markdown",
   "metadata": {},
   "source": [
    "## DecisionTreeClassifier"
   ]
  },
  {
   "cell_type": "code",
   "execution_count": null,
   "metadata": {},
   "outputs": [],
   "source": [
    "clf = DecisionTreeClassifier()\n",
    "clf.fit(X_train, y_train)\n",
    "y_pred = clf.predict(X_test)\n",
    "\n",
    "print(f1_score(y_test, y_pred, average='weighted'))"
   ]
  },
  {
   "cell_type": "code",
   "execution_count": null,
   "metadata": {},
   "outputs": [],
   "source": [
    "# Classification model that we want to configure:\n",
    "clf = DecisionTreeClassifier()\n",
    "\n",
    "# Parameter grid\n",
    "# Specify in a dictionary a key for each parameter to be configured and the list of its values\n",
    "# The keys in the dictionary must match the parameter names of the model constructor\n",
    "param_grid = {'criterion':[\"gini\",\"entropy\"],\n",
    "              'splitter':[\"best\",\"random\"],\n",
    "              'max_features':[\"sqrt\",\"auto\",\"log2\",None],\n",
    "              'class_weight':[\"balanced\",None]}\n",
    "\n",
    "# Configure grid search with the model and the parameter grid\n",
    "# The best model is computed based on the scoring function (f1) and with cross-validation (cv)\n",
    "gridsearch = GridSearchCV(clf, param_grid, scoring='f1', cv=5, n_jobs=-1)\n",
    "\n",
    "# Optimize the model parameters with cross-validation on the training data\n",
    "# The best model configuration is the one with highest f1 score\n",
    "res = gridsearch.fit(X_train, y_train)\n",
    "\n",
    "# Print result\n",
    "print(\"Best model configuration is:\")\n",
    "print(res.best_params_)\n",
    "print(\"with f1=%.5f\" % res.best_score_)"
   ]
  },
  {
   "cell_type": "code",
   "execution_count": null,
   "metadata": {},
   "outputs": [],
   "source": [
    "# Take the best model configuration\n",
    "final_model = res.best_estimator_\n",
    "# Fit on complete training set\n",
    "final_model.fit(X_train, y_train)\n",
    "\n",
    "# Evaluate on test set\n",
    "y_pred = final_model.predict(X_test)\n",
    "f1 = f1_score(y_test, y_pred, average='weighted')\n",
    "print(\"f1 (test set): %.5f\" % f1)"
   ]
  },
  {
   "cell_type": "markdown",
   "metadata": {},
   "source": [
    "## RandomForestClassifier"
   ]
  },
  {
   "cell_type": "code",
   "execution_count": null,
   "metadata": {},
   "outputs": [],
   "source": [
    "clf = RandomForestClassifier(100, max_features='sqrt',n_jobs=-1)\n",
    "clf.fit(X_train, y_train)\n",
    "y_pred = clf.predict(X_test)\n",
    "\n",
    "print(f1_score(y_test, y_pred, average='weighted'))"
   ]
  },
  {
   "cell_type": "code",
   "execution_count": null,
   "metadata": {},
   "outputs": [],
   "source": [
    "clf = RandomForestClassifier(n_jobs=-1)\n",
    "\n",
    "param_grid = {'n_estimators':list(range(50,101,10)), \n",
    "              'criterion':[\"entropy\",\"gini\"],\n",
    "              'max_features':[\"sqrt\",\"log2\"],\n",
    "              'class_weight':[\"balanced\",\"balanced_subsample\", None]}\n",
    "\n",
    "gridsearch = GridSearchCV(clf, param_grid, scoring='f1', cv=5,n_jobs=-1)\n",
    "\n",
    "res = gridsearch.fit(X_train, y_train)\n",
    "\n",
    "print(\"Best model configuration is:\")\n",
    "print(res.best_params_)\n",
    "print(\"with f1=%.5f\" % res.best_score_)"
   ]
  },
  {
   "cell_type": "code",
   "execution_count": null,
   "metadata": {},
   "outputs": [],
   "source": [
    "final_model = res.best_estimator_\n",
    "final_model.fit(X_train, y_train)\n",
    "y_pred = final_model.predict(X_test)\n",
    "\n",
    "f1 = f1_score(y_test, y_pred, average='weighted')\n",
    "print(\"f1 (test set): %.5f\" % f1)"
   ]
  },
  {
   "cell_type": "markdown",
   "metadata": {},
   "source": [
    "## MLPClassifier"
   ]
  },
  {
   "cell_type": "code",
   "execution_count": null,
   "metadata": {},
   "outputs": [],
   "source": [
    "#Initializing the MLPClassifier\n",
    "classifier = MLPClassifier(hidden_layer_sizes=(150,100,50), max_iter=300,activation = 'relu',solver='adam',shuffle=True)\n",
    "#Fitting the training data to the network\n",
    "classifier.fit(X_train, y_train)\n",
    "#Predicting y for X_test\n",
    "y_pred = classifier.predict(X_test)\n",
    "\n",
    "print(f1_score(y_test, y_pred, average='weighted'))"
   ]
  },
  {
   "cell_type": "code",
   "execution_count": null,
   "metadata": {},
   "outputs": [],
   "source": [
    "# Classifier model that we want to configure:\n",
    "clf = MLPClassifier(max_iter=300,shuffle=True)\n",
    "\n",
    "param_grid = {'hidden_layer_sizes':[(150,100,50)],\n",
    "              'activation': ['relu','identity','logistic','tanh'],\n",
    "              'solver':['adam'],\n",
    "              'learning_rate':['constant','invscaling','adaptive']}\n",
    "\n",
    "gridsearch = GridSearchCV(clf, param_grid, scoring='f1', cv=3,n_jobs=-1)\n",
    "\n",
    "res = gridsearch.fit(X_train, y_train)\n",
    "\n",
    "# Print result\n",
    "print(\"Best model configuration is:\")\n",
    "print(res.best_params_)\n",
    "print(\"with f1=%.5f\" % res.best_score_)"
   ]
  },
  {
   "cell_type": "code",
   "execution_count": null,
   "metadata": {},
   "outputs": [],
   "source": [
    "# Take the best model configuration\n",
    "final_model = res.best_estimator_\n",
    "# Fit on complete training set\n",
    "final_model.fit(X_train, y_train)\n",
    "# Evaluate on test set\n",
    "y_pred = final_model.predict(X_test)\n",
    "\n",
    "f1 = f1_score(y_test, y_pred, average='weighted')\n",
    "print(\"f1 (test set): %.5f\" % f1)"
   ]
  },
  {
   "cell_type": "markdown",
   "metadata": {},
   "source": [
    "## KNeighborsClassifier"
   ]
  },
  {
   "cell_type": "code",
   "execution_count": null,
   "metadata": {},
   "outputs": [],
   "source": [
    "#create new a knn model\n",
    "knn = KNeighborsClassifier(n_neighbors=3)\n",
    "\n",
    "knn.fit(X_train, y_train)\n",
    "y_pred = knn.predict(X_test)\n",
    "\n",
    "f1 = f1_score(y_test, y_pred, average='weighted')\n",
    "print(\"f1 (test set): %.5f\" % f1)"
   ]
  },
  {
   "cell_type": "code",
   "execution_count": null,
   "metadata": {},
   "outputs": [],
   "source": [
    "#create new a knn model\n",
    "knn = KNeighborsClassifier()\n",
    "\n",
    "param_grid = {'n_neighbors': np.arange(1, 40,5),\n",
    "              'weights': ['uniform','distance']\n",
    "             }\n",
    "\n",
    "gridsearch = GridSearchCV(knn, param_grid, scoring='f1', cv=5,n_jobs=-1)\n",
    "\n",
    "res = gridsearch.fit(X_train, y_train)\n",
    "\n",
    "# Print result\n",
    "print(\"Best model configuration is:\")\n",
    "print(res.best_params_)\n",
    "print(\"with f1=%.5f\" % res.best_score_)"
   ]
  },
  {
   "cell_type": "code",
   "execution_count": null,
   "metadata": {},
   "outputs": [],
   "source": [
    "# Take the best model configuration\n",
    "final_model = res.best_estimator_\n",
    "# Fit on complete training set\n",
    "final_model.fit(X_train, y_train)\n",
    "# Evaluate on test set\n",
    "y_pred = final_model.predict(X_test)\n",
    "\n",
    "f1 = f1_score(y_test, y_pred, average='weighted')\n",
    "print(\"f1 (test set): %.5f\" % f1)"
   ]
  },
  {
   "cell_type": "markdown",
   "metadata": {},
   "source": [
    "## LogisticRegression"
   ]
  },
  {
   "cell_type": "code",
   "execution_count": null,
   "metadata": {},
   "outputs": [],
   "source": [
    "logreg = LogisticRegression(solver='lbfgs')\n",
    "logreg.fit(X_train, y_train)\n",
    "y_pred = logreg.predict(X_test)\n",
    "\n",
    "f1 = f1_score(y_test, y_pred, average='weighted')\n",
    "print(\"f1 (test set): %.5f\" % f1)"
   ]
  },
  {
   "cell_type": "code",
   "execution_count": null,
   "metadata": {},
   "outputs": [],
   "source": [
    "# Classifier model that we want to configure:\n",
    "logreg = LogisticRegression()\n",
    "\n",
    "param_grid = {'penalty':['l2','none'],\n",
    "              'solver':['newton-cg','lbfgs','sag','saga'],\n",
    "              'class_weight':['auto','balanced',None]}\n",
    "\n",
    "gridsearch = GridSearchCV(logreg, param_grid, scoring='f1', cv=5,n_jobs=-1)\n",
    "\n",
    "res = gridsearch.fit(X_train, y_train)\n",
    "\n",
    "# Print result\n",
    "print(\"Best model configuration is:\")\n",
    "print(res.best_params_)\n",
    "print(\"with f1=%.5f\" % res.best_score_)"
   ]
  },
  {
   "cell_type": "code",
   "execution_count": null,
   "metadata": {},
   "outputs": [],
   "source": [
    "# Take the best model configuration\n",
    "final_model = res.best_estimator_\n",
    "# Fit on complete training set\n",
    "final_model.fit(X_train, y_train)\n",
    "# Evaluate on test set\n",
    "y_pred = final_model.predict(X_test)\n",
    "\n",
    "f1 = f1_score(y_test, y_pred, average='weighted')\n",
    "print(\"f1 (test set): %.5f\" % f1)"
   ]
  },
  {
   "cell_type": "code",
   "execution_count": null,
   "metadata": {},
   "outputs": [],
   "source": [
    "# Classifier model that we want to configure:\n",
    "logreg = LogisticRegression()\n",
    "\n",
    "param_grid = {'penalty':['elasticnet'],\n",
    "              'solver':['saga'],\n",
    "              'l1_ratio':np.linspace(0,1,num=11)}\n",
    "\n",
    "gridsearch = GridSearchCV(logreg, param_grid, scoring='f1', cv=5,n_jobs=-1)\n",
    "\n",
    "res = gridsearch.fit(X_train, y_train)\n",
    "\n",
    "# Print result\n",
    "print(\"Best model configuration is:\")\n",
    "print(res.best_params_)\n",
    "print(\"with f1=%.5f\" % res.best_score_)"
   ]
  },
  {
   "cell_type": "code",
   "execution_count": null,
   "metadata": {},
   "outputs": [],
   "source": [
    "# Take the best model configuration\n",
    "final_model = res.best_estimator_\n",
    "# Fit on complete training set\n",
    "final_model.fit(X_train, y_train)\n",
    "# Evaluate on test set\n",
    "y_pred = final_model.predict(X_test)\n",
    "\n",
    "f1 = f1_score(y_test, y_pred, average='weighted')\n",
    "print(\"f1 (test set): %.5f\" % f1)"
   ]
  },
  {
   "cell_type": "markdown",
   "metadata": {},
   "source": [
    "## SGDClassifier"
   ]
  },
  {
   "cell_type": "code",
   "execution_count": null,
   "metadata": {},
   "outputs": [],
   "source": [
    "clf = SGDClassifier()\n",
    "clf.fit(X_train, y_train)\n",
    "y_pred = clf.predict(X_test)\n",
    "\n",
    "f1 = f1_score(y_test, y_pred, average='weighted')\n",
    "print(\"f1 (test set): %.5f\" % f1)"
   ]
  },
  {
   "cell_type": "code",
   "execution_count": null,
   "metadata": {},
   "outputs": [],
   "source": [
    "# Classifier model that we want to configure:\n",
    "clf = SGDClassifier(n_jobs=-1)\n",
    "\n",
    "param_grid = {'penalty':['l2','l1','elasticnet'],\n",
    "              'loss':['hinge','log','modified_huber','squared_hinge','perceptron'],\\\n",
    "                      #'squared_loss','huber','epsilon_insensitive','squared_epsilon_insensitive'],\n",
    "              'class_weight':['balanced',None],\n",
    "              'alpha':[0.000001,0.00001,0.0001],#,0.001,0.01,0.1],\n",
    "              'learning_rate':['constant','optimal','invscaling','adaptive'],\n",
    "              'eta0':[0.00001]\n",
    "             }\n",
    "\n",
    "gridsearch = GridSearchCV(clf, param_grid, scoring='f1', cv=5,n_jobs=-1)\n",
    "\n",
    "res = gridsearch.fit(X_train, y_train)\n",
    "\n",
    "# Print result\n",
    "print(\"Best model configuration is:\")\n",
    "print(res.best_params_)\n",
    "print(\"with f1=%.5f\" % res.best_score_)"
   ]
  },
  {
   "cell_type": "code",
   "execution_count": null,
   "metadata": {},
   "outputs": [],
   "source": [
    "# Take the best model configuration\n",
    "final_model = res.best_estimator_\n",
    "# Fit on complete training set\n",
    "final_model.fit(X_train, y_train)\n",
    "# Evaluate on test set\n",
    "y_pred = final_model.predict(X_test)\n",
    "\n",
    "f1 = f1_score(y_test, y_pred, average='weighted')\n",
    "print(\"f1 (test set): %.5f\" % f1)"
   ]
  },
  {
   "cell_type": "markdown",
   "metadata": {},
   "source": [
    "## SVC"
   ]
  },
  {
   "cell_type": "code",
   "execution_count": null,
   "metadata": {},
   "outputs": [],
   "source": [
    "clf = SVC(kernel='linear')\n",
    "clf.fit(X_train, y_train)\n",
    "y_pred = clf.predict(X_test)\n",
    "\n",
    "f1 = f1_score(y_test, y_pred, average='weighted')\n",
    "print(\"f1 (test set): %.5f\" % f1)"
   ]
  },
  {
   "cell_type": "code",
   "execution_count": null,
   "metadata": {},
   "outputs": [],
   "source": [
    "# Classifier model that we want to configure:\n",
    "clf = SVC(kernel='linear')\n",
    "\n",
    "param_grid = {'C':np.linspace(0.1,3,num=10)}\n",
    "\n",
    "gridsearch = GridSearchCV(clf, param_grid, scoring='f1', cv=5,n_jobs=-1)\n",
    "\n",
    "res = gridsearch.fit(X_train, y_train)\n",
    "\n",
    "# Print result\n",
    "print(\"Best model configuration is:\")\n",
    "print(res.best_params_)\n",
    "print(\"with f1=%.5f\" % res.best_score_)"
   ]
  },
  {
   "cell_type": "code",
   "execution_count": null,
   "metadata": {},
   "outputs": [],
   "source": [
    "# Take the best model configuration\n",
    "final_model = res.best_estimator_\n",
    "# Fit on complete training set\n",
    "final_model.fit(X_train, y_train)\n",
    "# Evaluate on test set\n",
    "y_pred = final_model.predict(X_test)\n",
    "\n",
    "f1 = f1_score(y_test, y_pred, average='weighted')\n",
    "print(\"f1 (test set): %.5f\" % f1)"
   ]
  },
  {
   "cell_type": "markdown",
   "metadata": {},
   "source": [
    "## LinearSVC"
   ]
  },
  {
   "cell_type": "code",
   "execution_count": null,
   "metadata": {},
   "outputs": [],
   "source": [
    "clf = LinearSVC()\n",
    "clf.fit(X_train, y_train)\n",
    "y_pred = clf.predict(X_test)\n",
    "\n",
    "f1 = f1_score(y_test, y_pred, average='weighted')\n",
    "print(\"f1 (test set): %.5f\" % f1)"
   ]
  },
  {
   "cell_type": "code",
   "execution_count": null,
   "metadata": {},
   "outputs": [],
   "source": [
    "# Classifier model that we want to configure:\n",
    "clf = LinearSVC()\n",
    "\n",
    "param_grid = {'penalty':['l2'],\n",
    "              'loss':['hinge','squared_hinge'],\n",
    "              'C':np.linspace(0.1,3,num=10),\n",
    "              'class_weight':['balanced',None]\n",
    "             }\n",
    "\n",
    "gridsearch = GridSearchCV(clf, param_grid, scoring='f1', cv=5,n_jobs=-1)\n",
    "\n",
    "res = gridsearch.fit(X_train, y_train)\n",
    "\n",
    "# Print result\n",
    "print(\"Best model configuration is:\")\n",
    "print(res.best_params_)\n",
    "print(\"with f1=%.5f\" % res.best_score_)"
   ]
  },
  {
   "cell_type": "code",
   "execution_count": null,
   "metadata": {
    "scrolled": true
   },
   "outputs": [],
   "source": [
    "# Take the best model configuration\n",
    "final_model = res.best_estimator_\n",
    "# Fit on complete training set\n",
    "final_model.fit(X_train, y_train)\n",
    "# Evaluate on test set\n",
    "y_pred = final_model.predict(X_test)\n",
    "\n",
    "f1 = f1_score(y_test, y_pred, average='weighted')\n",
    "print(\"f1 (test set): %.5f\" % f1)"
   ]
  },
  {
   "cell_type": "code",
   "execution_count": null,
   "metadata": {},
   "outputs": [],
   "source": [
    "# Classifier model that we want to configure:\n",
    "clf = LinearSVC()\n",
    "\n",
    "param_grid = {'penalty':['l1'],\n",
    "              'loss':['squared_hinge'],\n",
    "              'dual':[False],\n",
    "              'C':np.linspace(0.1,3,num=10),\n",
    "              'class_weight':['balanced',None]\n",
    "             }\n",
    "\n",
    "gridsearch = GridSearchCV(clf, param_grid, scoring='f1', cv=5,n_jobs=-1)\n",
    "\n",
    "res = gridsearch.fit(X_train, y_train)\n",
    "\n",
    "# Print result\n",
    "print(\"Best model configuration is:\")\n",
    "print(res.best_params_)\n",
    "print(\"with f1=%.5f\" % res.best_score_)"
   ]
  },
  {
   "cell_type": "code",
   "execution_count": null,
   "metadata": {},
   "outputs": [],
   "source": [
    "# Take the best model configuration\n",
    "final_model = res.best_estimator_\n",
    "# Fit on complete training set\n",
    "final_model.fit(X_train, y_train)\n",
    "# Evaluate on test set\n",
    "y_pred = final_model.predict(X_test)\n",
    "\n",
    "f1 = f1_score(y_test, y_pred, average='weighted')\n",
    "print(\"f1 (test set): %.5f\" % f1)"
   ]
  },
  {
   "cell_type": "markdown",
   "metadata": {},
   "source": [
    "# Tuning and validation"
   ]
  },
  {
   "cell_type": "code",
   "execution_count": 59,
   "metadata": {},
   "outputs": [],
   "source": [
    "from sklearn.model_selection import GridSearchCV\n",
    "from sklearn.linear_model import SGDClassifier\n",
    "from sklearn.svm import LinearSVC"
   ]
  },
  {
   "cell_type": "markdown",
   "metadata": {},
   "source": [
    "## Tuning and validation of LinearSVC"
   ]
  },
  {
   "cell_type": "code",
   "execution_count": 85,
   "metadata": {},
   "outputs": [
    {
     "name": "stdout",
     "output_type": "stream",
     "text": [
      "Best model configuration is:\n",
      "{'C': 1000, 'loss': 'hinge', 'tol': 1}\n",
      "with f1=0.97490\n",
      "inizio    : 176794.03\n",
      "fine      : 177169.62\n",
      "intervallo:    375.59\n"
     ]
    }
   ],
   "source": [
    "# Classifier model that we want to configure:\n",
    "clf = LinearSVC(penalty='l2',dual=True,class_weight='balanced')\n",
    "\n",
    "param_grid = {'loss':['hinge','squared_hinge'],\n",
    "              'tol':[1e2,1e1,1,1e-1,1e-2,1e-3,1e-4,1e-5],\n",
    "              'C':[0.1,1,10,50,100,500,1000,5000,10000]\n",
    "             }\n",
    "\n",
    "gridsearch = GridSearchCV(clf, param_grid, scoring='f1', cv=5, n_jobs=-1)\n",
    "\n",
    "res = gridsearch.fit(X_tfidf, y)\n",
    "\n",
    "# Print result\n",
    "print(\"Best model configuration is:\")\n",
    "print(res.best_params_)\n",
    "print(\"with f1=%.5f\" % res.best_score_)"
   ]
  },
  {
   "cell_type": "code",
   "execution_count": 86,
   "metadata": {},
   "outputs": [],
   "source": [
    "# Take the best model configuration\n",
    "final_model = res.best_estimator_\n",
    "# Fit on complete training set\n",
    "final_model.fit(X_tfidf, y)\n",
    "\n",
    "# Evaluate on test set\n",
    "y_pred_1 = final_model.predict(X_tfidf_eval)"
   ]
  },
  {
   "cell_type": "markdown",
   "metadata": {},
   "source": [
    "## Tuning and validation of SGDClassifier"
   ]
  },
  {
   "cell_type": "code",
   "execution_count": 87,
   "metadata": {},
   "outputs": [
    {
     "name": "stdout",
     "output_type": "stream",
     "text": [
      "Best model configuration is:\n",
      "{'alpha': 5e-06, 'fit_intercept': True, 'l1_ratio': 0.45, 'loss': 'hinge', 'penalty': 'elasticnet', 'tol': 0.01}\n",
      "with f1=0.97621\n",
      "inizio    : 177170.06\n",
      "fine      : 194809.86\n",
      "intervallo:  17639.80\n"
     ]
    }
   ],
   "source": [
    "# Classifier model that we want to configure:\n",
    "clf = SGDClassifier(learning_rate='optimal',n_jobs=-1)\n",
    "\n",
    "param_grid = {'penalty':['elasticnet'],\n",
    "              'l1_ratio':np.linspace(0,0.5,num=11),\n",
    "              'loss':['hinge','log','modified_huber','squared_hinge','perceptron'],\n",
    "              'alpha':[0.000001,0.000005,0.00001,0.00005,0.0001,0.001,0.01,0.1],\n",
    "              'fit_intercept':[True,False],\n",
    "              'tol':[1e2,1e1,1,1e-1,1e-2,1e-3,1e-4,1e-5,1e-6]\n",
    "             }\n",
    "\n",
    "gridsearch = GridSearchCV(clf, param_grid, scoring='f1', cv=5, n_jobs=-1)\n",
    "\n",
    "res = gridsearch.fit(X_tfidf, y)\n",
    "\n",
    "# Print result\n",
    "print(\"Best model configuration is:\")\n",
    "print(res.best_params_)\n",
    "print(\"with f1=%.5f\" % res.best_score_)"
   ]
  },
  {
   "cell_type": "code",
   "execution_count": 88,
   "metadata": {},
   "outputs": [],
   "source": [
    "# Take the best model configuration\n",
    "final_model = res.best_estimator_\n",
    "# Fit on complete training set\n",
    "final_model.fit(X_tfidf, y)\n",
    "# Evaluate on test set\n",
    "y_pred_2 = final_model.predict(X_tfidf_eval)"
   ]
  },
  {
   "cell_type": "markdown",
   "metadata": {},
   "source": [
    "# Output"
   ]
  },
  {
   "cell_type": "code",
   "execution_count": 92,
   "metadata": {},
   "outputs": [],
   "source": [
    "import csv"
   ]
  },
  {
   "cell_type": "code",
   "execution_count": 93,
   "metadata": {},
   "outputs": [],
   "source": [
    "filename = \"output1.csv\"\n",
    "with open(filename, mode='w') as output_file:\n",
    "    output_writer = csv.writer(output_file, delimiter=',', lineterminator='\\n', quotechar='\"', quoting=csv.QUOTE_MINIMAL)\n",
    "    output_writer.writerow(['Id','Predicted'])\n",
    "    for i in range(X_tfidf_eval.shape[0]):\n",
    "        output_writer.writerow([i,d[y_pred_1[i]]])"
   ]
  },
  {
   "cell_type": "code",
   "execution_count": 94,
   "metadata": {},
   "outputs": [],
   "source": [
    "filename = \"output2.csv\"\n",
    "with open(filename, mode='w') as output_file:\n",
    "    output_writer = csv.writer(output_file, delimiter=',', lineterminator='\\n', quotechar='\"', quoting=csv.QUOTE_MINIMAL)\n",
    "    output_writer.writerow(['Id','Predicted'])\n",
    "    for i in range(X_tfidf_eval.shape[0]):\n",
    "        output_writer.writerow([i,d[y_pred_2[i]]])"
   ]
  }
 ],
 "metadata": {
  "kernelspec": {
   "display_name": "Python 3",
   "language": "python",
   "name": "python3"
  },
  "language_info": {
   "codemirror_mode": {
    "name": "ipython",
    "version": 3
   },
   "file_extension": ".py",
   "mimetype": "text/x-python",
   "name": "python",
   "nbconvert_exporter": "python",
   "pygments_lexer": "ipython3",
   "version": "3.7.3"
  },
  "toc": {
   "base_numbering": 1,
   "nav_menu": {},
   "number_sections": true,
   "sideBar": true,
   "skip_h1_title": false,
   "title_cell": "Table of Contents",
   "title_sidebar": "Contents",
   "toc_cell": true,
   "toc_position": {},
   "toc_section_display": false,
   "toc_window_display": false
  }
 },
 "nbformat": 4,
 "nbformat_minor": 2
}
